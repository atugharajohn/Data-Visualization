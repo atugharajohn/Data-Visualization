{
 "cells": [
  {
   "cell_type": "markdown",
   "metadata": {},
   "source": [
    "# Line Bar Graph\n",
    "## Introduction\n",
    "A Line bar graph is a combination graph that combines the features of a bar graph and a line chart. It is used for the graphical representation of two or more variables in a dataset. Both the bar graph and line chart represent one category each. It is very effective in comparing values of two different categories. They are extensively useful for showing parameter changes in trends over time.\n",
    "## Features of Line Bar Graph\n",
    "The main features of the Line Bar Graph are-\n",
    "- Used for comparing values of different categories.\n",
    "- Extensively used for Time-Series analysis.\n",
    "- Good for Bivariate and Multivariate analysis.\n",
    "- Using Matplotlib\n",
    "Let’s plot a Line Bar Graph for education(X-axis) as the first categorical variable and compare the total count of adults(Y-axis) according to two possible levels of income(‘<=50K’ and ‘>50K’). Income ‘<=50K’ is represented by a Bar Chart and Income ‘>50K’ is represented by a line graph.\n",
    "## Python Code and Visualizations of Line Bar Graph"
   ]
  }
 ],
 "metadata": {
  "kernelspec": {
   "display_name": "Python 3",
   "language": "python",
   "name": "python3"
  },
  "language_info": {
   "name": "python",
   "version": "3.12.0"
  }
 },
 "nbformat": 4,
 "nbformat_minor": 2
}
